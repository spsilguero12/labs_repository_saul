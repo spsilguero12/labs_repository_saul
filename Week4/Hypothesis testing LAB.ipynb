{
 "cells": [
  {
   "cell_type": "code",
   "execution_count": 3,
   "id": "72eb3f75",
   "metadata": {},
   "outputs": [],
   "source": [
    "import numpy as np\n",
    "import pandas as pd\n",
    "import scipy.stats as stats\n",
    "import matplotlib.pyplot as plt\n",
    "import seaborn as sns\n",
    "\n",
    "%matplotlib inline"
   ]
  },
  {
   "cell_type": "code",
   "execution_count": 4,
   "id": "442323ca",
   "metadata": {},
   "outputs": [],
   "source": [
    "mean_population= 120\n",
    "population=100\n",
    "mean_sample= 130.1\n",
    "std_sample= 21.21"
   ]
  },
  {
   "cell_type": "code",
   "execution_count": null,
   "id": "c152ef30",
   "metadata": {},
   "outputs": [],
   "source": [
    "#Ho mu=120\n",
    "#Ha mu!=120\n",
    "\n",
    "#We dont know the std of the population, so we use T test."
   ]
  },
  {
   "cell_type": "code",
   "execution_count": 5,
   "id": "b57b9631",
   "metadata": {},
   "outputs": [
    {
     "data": {
      "text/plain": [
       "4.761904761904759"
      ]
     },
     "execution_count": 5,
     "metadata": {},
     "output_type": "execute_result"
    }
   ],
   "source": [
    "t= ( mean_sample - mean_population ) / (std_sample / np.sqrt(100) )\n",
    "t"
   ]
  },
  {
   "cell_type": "code",
   "execution_count": null,
   "id": "b29bbdb8",
   "metadata": {},
   "outputs": [],
   "source": [
    "#We choose our alpha=confident level--> 95%."
   ]
  },
  {
   "cell_type": "code",
   "execution_count": 8,
   "id": "2a9c8c9c",
   "metadata": {},
   "outputs": [
    {
     "name": "stdout",
     "output_type": "stream",
     "text": [
      "The critical value corresponding to a 0.95 area of a normal distribution is: 1.66\n"
     ]
    }
   ],
   "source": [
    "t_cv = stats.t.ppf(1-0.05, df=99) # 0.95 is the confidence level.\n",
    "print(\"The critical value corresponding to a 0.95 area of a normal distribution is: {:.2f}\".format(t_cv))"
   ]
  },
  {
   "cell_type": "code",
   "execution_count": null,
   "id": "d33f743b",
   "metadata": {},
   "outputs": [],
   "source": [
    "#The t falls outside the cut, so we reject the null Hypothesis--> So the group is significantly different."
   ]
  }
 ],
 "metadata": {
  "kernelspec": {
   "display_name": "Python 3 (ipykernel)",
   "language": "python",
   "name": "python3"
  },
  "language_info": {
   "codemirror_mode": {
    "name": "ipython",
    "version": 3
   },
   "file_extension": ".py",
   "mimetype": "text/x-python",
   "name": "python",
   "nbconvert_exporter": "python",
   "pygments_lexer": "ipython3",
   "version": "3.11.4"
  }
 },
 "nbformat": 4,
 "nbformat_minor": 5
}
