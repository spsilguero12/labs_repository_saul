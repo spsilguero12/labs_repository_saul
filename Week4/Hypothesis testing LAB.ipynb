{
 "cells": [
  {
   "cell_type": "code",
   "execution_count": null,
   "id": "36f2f54f",
   "metadata": {},
   "outputs": [],
   "source": [
    "\"\"\"\"It is assumed that the mean systolic blood pressure is μ = 120 mm Hg. In the Honolulu Heart Study, a sample of n = 100 people had an average systolic blood pressure of 130.1 mm Hg with a standard deviation of 21.21 mm Hg. Is the group significantly different (with respect to systolic blood pressure!) from the regular population?\n",
    "\n",
    "Set up the hypothesis test.\n",
    "Write down all the steps followed for setting up the test.\n",
    "Calculate the test statistic by hand and also code it in Python. It should be 4.76190. What decision can you make based on this calculated value?\"\"\""
   ]
  },
  {
   "cell_type": "code",
   "execution_count": 3,
   "id": "bcddaa04",
   "metadata": {},
   "outputs": [],
   "source": [
    "import numpy as np\n",
    "import pandas as pd\n",
    "import scipy.stats as stats\n",
    "import matplotlib.pyplot as plt\n",
    "import seaborn as sns\n",
    "\n",
    "%matplotlib inline"
   ]
  },
  {
   "cell_type": "code",
   "execution_count": 4,
   "id": "770d91fc",
   "metadata": {},
   "outputs": [],
   "source": [
    "mean_population= 120\n",
    "population=100\n",
    "mean_sample= 130.1\n",
    "std_sample= 21.21"
   ]
  },
  {
   "cell_type": "code",
   "execution_count": null,
   "id": "48147858",
   "metadata": {},
   "outputs": [],
   "source": [
    "#Ho mu=120\n",
    "#Ha mu!=120\n",
    "\n",
    "#We dont know the std of the population, so we use T test."
   ]
  },
  {
   "cell_type": "code",
   "execution_count": 5,
   "id": "58ee23fe",
   "metadata": {},
   "outputs": [
    {
     "data": {
      "text/plain": [
       "4.761904761904759"
      ]
     },
     "execution_count": 5,
     "metadata": {},
     "output_type": "execute_result"
    }
   ],
   "source": [
    "t= ( mean_sample - mean_population ) / (std_sample / np.sqrt(100) )\n",
    "t"
   ]
  },
  {
   "cell_type": "code",
   "execution_count": null,
   "id": "1f8aae7e",
   "metadata": {},
   "outputs": [],
   "source": [
    "#We choose our alpha=confident level--> 95%."
   ]
  },
  {
   "cell_type": "code",
   "execution_count": 8,
   "id": "1b2a5659",
   "metadata": {},
   "outputs": [
    {
     "name": "stdout",
     "output_type": "stream",
     "text": [
      "The critical value corresponding to a 0.95 area of a normal distribution is: 1.66\n"
     ]
    }
   ],
   "source": [
    "t_cv = stats.t.ppf(1-0.05, df=99) # 0.95 is the confidence level.\n",
    "print(\"The critical value corresponding to a 0.95 area of a normal distribution is: {:.2f}\".format(t_cv))"
   ]
  },
  {
   "cell_type": "code",
   "execution_count": null,
   "id": "1e1718f4",
   "metadata": {},
   "outputs": [],
   "source": [
    "#The t falls outside the cut, so we reject the null Hypothesis--> So the group is significantly different."
   ]
  }
 ],
 "metadata": {
  "kernelspec": {
   "display_name": "Python 3 (ipykernel)",
   "language": "python",
   "name": "python3"
  },
  "language_info": {
   "codemirror_mode": {
    "name": "ipython",
    "version": 3
   },
   "file_extension": ".py",
   "mimetype": "text/x-python",
   "name": "python",
   "nbconvert_exporter": "python",
   "pygments_lexer": "ipython3",
   "version": "3.11.4"
  }
 },
 "nbformat": 4,
 "nbformat_minor": 5
}
