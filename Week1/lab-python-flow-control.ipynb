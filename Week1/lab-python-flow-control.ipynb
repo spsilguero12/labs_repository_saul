{
 "cells": [
  {
   "cell_type": "markdown",
   "id": "d3bfc191-8885-42ee-b0a0-bbab867c6f9f",
   "metadata": {
    "tags": []
   },
   "source": [
    "# Lab | Flow Control"
   ]
  },
  {
   "cell_type": "markdown",
   "id": "3851fcd1-cf98-4653-9c89-e003b7ec9400",
   "metadata": {},
   "source": [
    "## Exercise: Managing Customer Orders Optimized\n",
    "\n",
    "In the last lab, you were starting an online store that sells various products. To ensure smooth operations, you developed a program that manages customer orders and inventory.\n",
    "\n",
    "You did so without using flow control. Let's go a step further and improve this code.\n",
    "\n",
    "Follow the steps below to complete the exercise:\n",
    "\n",
    "1. Look at your code from the lab data structures, and improve repeated code with loops.\n",
    "\n",
    "2. Instead of asking the user to input the name of three products that a customer wants to order, do the following:\n",
    "    \n",
    "    a. Prompt the user to enter the name of a product that a customer wants to order.\n",
    "    \n",
    "    b. Add the product name to the \"customer_orders\" set.\n",
    "    \n",
    "    c. Ask the user if they want to add another product (yes/no).\n",
    "    \n",
    "    d. Continue the loop until the user does not want to add another product.\n",
    "\n",
    "3. Instead of updating the inventory by subtracting 1 from the quantity of each product, only do it for  the products that were ordered (those in \"customer_orders\")."
   ]
  },
  {
   "cell_type": "code",
   "execution_count": 64,
   "id": "ea94c680",
   "metadata": {},
   "outputs": [
    {
     "name": "stdout",
     "output_type": "stream",
     "text": [
      "Number of mugs:5\n",
      "Number of tees:10\n",
      "Number of hats:15\n",
      "Number of books:20\n",
      "Number of Keychains:25\n"
     ]
    }
   ],
   "source": [
    "products=[\"t-shirt\", \"mug\", \"hat\", \"book\", \"keychain\"]\n",
    "\n",
    "inventory={}\n",
    "\n",
    "mug= input (\"Number of mugs:\")\n",
    "mug= int(mug)\n",
    "tee= input (\"Number of tees:\")\n",
    "tee= int(tee)\n",
    "hat= input (\"Number of hats:\")\n",
    "hat= int(hat)\n",
    "book= input (\"Number of books:\")\n",
    "book= int(book)\n",
    "keychain= input (\"Number of Keychains:\")\n",
    "keychain= int(keychain)\n",
    "\n",
    "inventory={'t-shirt':tee, 'mug':mug, 'hat':hat, 'book':book, 'keychain':keychain}\n",
    "\n"
   ]
  },
  {
   "cell_type": "code",
   "execution_count": 65,
   "id": "666ff476",
   "metadata": {},
   "outputs": [],
   "source": [
    "customers_orders= set ()"
   ]
  },
  {
   "cell_type": "code",
   "execution_count": 66,
   "id": "9247534f",
   "metadata": {},
   "outputs": [
    {
     "name": "stdout",
     "output_type": "stream",
     "text": [
      "What you like to add a product? Yes or No:  Yes\n",
      "How many products would you like to add?: 2\n",
      "Please type a product: mug\n",
      "Please type a product: hat\n"
     ]
    }
   ],
   "source": [
    "#2\n",
    "\n",
    "\n",
    "answer = input (\"What you like to add a product? Yes or No:  \")\n",
    "\n",
    "\n",
    "if (answer== \"Yes\"):\n",
    "    \n",
    "    number= int (input (\"How many products would you like to add?: \"))\n",
    "    \n",
    "    for i in range (0, number):\n",
    "    \n",
    "        product = input (\"Please type a product: \")\n",
    "    \n",
    "        customers_orders.add (product)\n",
    "    \n",
    "else:\n",
    "    print(\"Bye\")\n",
    "\n"
   ]
  },
  {
   "cell_type": "code",
   "execution_count": 67,
   "id": "4d150560",
   "metadata": {},
   "outputs": [
    {
     "name": "stdout",
     "output_type": "stream",
     "text": [
      "{'hat', 'mug'}\n"
     ]
    }
   ],
   "source": [
    "print (customers_orders)"
   ]
  },
  {
   "cell_type": "code",
   "execution_count": 68,
   "id": "4257cdcb",
   "metadata": {},
   "outputs": [
    {
     "name": "stdout",
     "output_type": "stream",
     "text": [
      "{'t-shirt': 10, 'mug': 4, 'hat': 14, 'book': 20, 'keychain': 25}\n"
     ]
    }
   ],
   "source": [
    "#3\n",
    "for i in customers_orders:\n",
    "    if i in inventory.keys():\n",
    "        inventory[i]-=1\n",
    "print (inventory)"
   ]
  },
  {
   "cell_type": "code",
   "execution_count": null,
   "id": "1dfbc1b8",
   "metadata": {},
   "outputs": [],
   "source": []
  },
  {
   "cell_type": "code",
   "execution_count": null,
   "id": "af1aaf8a",
   "metadata": {},
   "outputs": [],
   "source": []
  }
 ],
 "metadata": {
  "kernelspec": {
   "display_name": "Python 3 (ipykernel)",
   "language": "python",
   "name": "python3"
  },
  "language_info": {
   "codemirror_mode": {
    "name": "ipython",
    "version": 3
   },
   "file_extension": ".py",
   "mimetype": "text/x-python",
   "name": "python",
   "nbconvert_exporter": "python",
   "pygments_lexer": "ipython3",
   "version": "3.11.4"
  }
 },
 "nbformat": 4,
 "nbformat_minor": 5
}
