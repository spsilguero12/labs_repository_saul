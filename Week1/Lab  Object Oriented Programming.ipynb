{
 "cells": [
  {
   "cell_type": "markdown",
   "id": "16e166e1",
   "metadata": {},
   "source": [
    "# Challenge 1"
   ]
  },
  {
   "cell_type": "code",
   "execution_count": 19,
   "id": "8b55df9b",
   "metadata": {},
   "outputs": [],
   "source": [
    "import random"
   ]
  },
  {
   "cell_type": "code",
   "execution_count": 20,
   "id": "2924be69",
   "metadata": {},
   "outputs": [],
   "source": [
    "class BankAccount:\n",
    "    def __init__(self):        \n",
    "        self.balance = 0\n",
    "        self.account_number = self.generate_account_number()\n",
    "        \n",
    "        \n",
    "    def generate_account_number(self):\n",
    "        return random.randint(100000, 999999)\n",
    "        \n",
    "    def deposit(self, amount):\n",
    "        if amount > 0:\n",
    "            self.balance += amount\n",
    "            print(f\"Deposited ${amount}. New balance: ${self.balance}\")\n",
    "        else:\n",
    "            print(\"Please Deposit an amount greater than 0.\")\n",
    "\n",
    "    def withdraw(self, amount):\n",
    "        if amount > 0 and amount <= self.balance:\n",
    "            self.balance -= amount\n",
    "            print(f\"Withdrew ${amount}. New balance: ${self.balance}\")\n",
    "        else:\n",
    "            print(\"Invalid withdrawal\")\n",
    "\n",
    "    def get_balance(self):\n",
    "        return self.balance\n",
    "\n",
    "    def get_account_number(self):\n",
    "        return self.account_number\n"
   ]
  },
  {
   "cell_type": "code",
   "execution_count": 21,
   "id": "7021903d",
   "metadata": {},
   "outputs": [],
   "source": [
    "account1= BankAccount()\n",
    "account2= BankAccount()"
   ]
  },
  {
   "cell_type": "code",
   "execution_count": 22,
   "id": "a7d9ecd9",
   "metadata": {},
   "outputs": [
    {
     "name": "stdout",
     "output_type": "stream",
     "text": [
      "Deposited $1000. New balance: $1000\n"
     ]
    }
   ],
   "source": [
    "account1.deposit(1000)"
   ]
  },
  {
   "cell_type": "code",
   "execution_count": 23,
   "id": "e487a7b7",
   "metadata": {},
   "outputs": [
    {
     "name": "stdout",
     "output_type": "stream",
     "text": [
      "Deposited $500. New balance: $500\n"
     ]
    }
   ],
   "source": [
    "account2.deposit(500)"
   ]
  },
  {
   "cell_type": "code",
   "execution_count": 24,
   "id": "7c43a7e2",
   "metadata": {},
   "outputs": [
    {
     "name": "stdout",
     "output_type": "stream",
     "text": [
      "Account 1 balance: 1000\n",
      "Account 1 number: 546538\n",
      "Account 2 balance: 500\n",
      "Account 2 number: 437291\n",
      "Deposited $500. New balance: $1500\n",
      "Withdrew $200. New balance: $1300\n",
      "Account 1 balance after transactions: 1300\n",
      "Invalid withdrawal\n",
      "Account 2 balance after transactions: 500\n"
     ]
    }
   ],
   "source": [
    "print(\"Account 1 balance:\", account1.get_balance()) # This should print 1000\n",
    "print(\"Account 1 number:\", account1.get_account_number()) # This should print 1\n",
    "\n",
    "print(\"Account 2 balance:\", account2.get_balance()) #This should print 500\n",
    "print(\"Account 2 number:\", account2.get_account_number()) #This should print 2\n",
    "\n",
    "account1.deposit(500) # We depoist 500 in the first account\n",
    "account1.withdraw(200) # We withdraw 200 in the first account\n",
    "print(\"Account 1 balance after transactions:\", account1.get_balance()) # This should print 1300\n",
    "\n",
    "account2.withdraw(600) # We withdraw 600 in the 2nd account \n",
    "print(\"Account 2 balance after transactions:\", account2.get_balance())# This should prin insufficient balance"
   ]
  },
  {
   "cell_type": "code",
   "execution_count": 25,
   "id": "d6e7e482",
   "metadata": {},
   "outputs": [
    {
     "data": {
      "text/plain": [
       "546538"
      ]
     },
     "execution_count": 25,
     "metadata": {},
     "output_type": "execute_result"
    }
   ],
   "source": [
    "account1.get_account_number()"
   ]
  },
  {
   "cell_type": "code",
   "execution_count": 26,
   "id": "d4e460e7",
   "metadata": {},
   "outputs": [
    {
     "data": {
      "text/plain": [
       "437291"
      ]
     },
     "execution_count": 26,
     "metadata": {},
     "output_type": "execute_result"
    }
   ],
   "source": [
    "account2.get_account_number()"
   ]
  },
  {
   "cell_type": "markdown",
   "id": "3b1d0ffa",
   "metadata": {},
   "source": [
    "# Challenge 2"
   ]
  },
  {
   "cell_type": "code",
   "execution_count": 29,
   "id": "fd2cc18a",
   "metadata": {},
   "outputs": [],
   "source": [
    "class SavingsAccount(BankAccount):\n",
    "    def __init__(self):\n",
    "            super().__init__()\n",
    "        self.interest_rate = 0.02\n",
    "\n",
    "    def add_interest(self):\n",
    "        interest_earned = self.balance * self.interest_rate\n",
    "        self.balance += interest_earned\n",
    "        print(f\"Interest added: ${interest_earned}. New balance: ${self.balance}\")\n",
    "\n",
    "    def get_interest_rate(self):\n",
    "        return self.interest_rate\n",
    "    "
   ]
  },
  {
   "cell_type": "code",
   "execution_count": 39,
   "id": "18c63a31",
   "metadata": {},
   "outputs": [],
   "source": [
    "saving_account= SavingsAccount()"
   ]
  },
  {
   "cell_type": "code",
   "execution_count": 40,
   "id": "5ebfd994",
   "metadata": {},
   "outputs": [
    {
     "data": {
      "text/plain": [
       "589611"
      ]
     },
     "execution_count": 40,
     "metadata": {},
     "output_type": "execute_result"
    }
   ],
   "source": [
    "saving_account.get_account_number()"
   ]
  },
  {
   "cell_type": "code",
   "execution_count": 43,
   "id": "4cda65f3",
   "metadata": {},
   "outputs": [
    {
     "name": "stdout",
     "output_type": "stream",
     "text": [
      "Deposited $150. New balance: $150\n"
     ]
    }
   ],
   "source": [
    "saving_account.deposit(150)"
   ]
  },
  {
   "cell_type": "code",
   "execution_count": 44,
   "id": "efa9580e",
   "metadata": {},
   "outputs": [
    {
     "name": "stdout",
     "output_type": "stream",
     "text": [
      "Withdrew $25. New balance: $125\n"
     ]
    }
   ],
   "source": [
    "saving_account.withdraw(25)"
   ]
  },
  {
   "cell_type": "code",
   "execution_count": 45,
   "id": "0c16244a",
   "metadata": {},
   "outputs": [
    {
     "name": "stdout",
     "output_type": "stream",
     "text": [
      "Interest added: $2.5. New balance: $127.5\n"
     ]
    }
   ],
   "source": [
    "saving_account.add_interest()"
   ]
  }
 ],
 "metadata": {
  "kernelspec": {
   "display_name": "Python 3 (ipykernel)",
   "language": "python",
   "name": "python3"
  },
  "language_info": {
   "codemirror_mode": {
    "name": "ipython",
    "version": 3
   },
   "file_extension": ".py",
   "mimetype": "text/x-python",
   "name": "python",
   "nbconvert_exporter": "python",
   "pygments_lexer": "ipython3",
   "version": "3.11.4"
  }
 },
 "nbformat": 4,
 "nbformat_minor": 5
}
