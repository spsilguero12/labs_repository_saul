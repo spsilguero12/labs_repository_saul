{
 "cells": [
  {
   "cell_type": "markdown",
   "metadata": {
    "tags": []
   },
   "source": [
    "# Lab | Data Structures "
   ]
  },
  {
   "cell_type": "markdown",
   "metadata": {},
   "source": [
    "## Exercise: Managing Customer Orders\n",
    "\n",
    "As part of a business venture, you are starting an online store that sells various products. To ensure smooth operations, you need to develop a program that manages customer orders and inventory.\n",
    "\n",
    "Follow the steps below to complete the exercise:\n",
    "\n",
    "1. Define a list called `products` that contains the following items: \"t-shirt\", \"mug\", \"hat\", \"book\", \"keychain\".\n",
    "\n",
    "2. Create an empty dictionary called `inventory`.\n",
    "\n",
    "3. Ask the user to input the quantity of each product available in the inventory. Use the product names from the `products` list as keys in the `inventory` dictionary and assign the respective quantities as values.\n",
    "\n",
    "4. Create an empty set called `customer_orders`.\n",
    "\n",
    "5. Ask the user to input the name of three products that a customer wants to order (from those in the products list, meaning three products out of \"t-shirt\", \"mug\", \"hat\", \"book\" or \"keychain\". Add each product name to the `customer_orders` set.\n",
    "\n",
    "6. Print the products in the `customer_orders` set.\n",
    "\n",
    "7. Calculate the following order statistics:\n",
    "   - Total Products Ordered: The total number of products in the `customer_orders` set.\n",
    "   - Percentage of Products Ordered: The percentage of products ordered compared to the total available products.\n",
    "   \n",
    "   Store these statistics in a tuple called `order_status`.\n",
    "\n",
    "8. Print the order statistics using the following format:\n",
    "   ```\n",
    "   Order Statistics:\n",
    "   Total Products Ordered: <total_products_ordered>\n",
    "   Percentage of Products Ordered: <percentage_ordered>% \n",
    "   ```\n",
    "\n",
    "9. Update the inventory by subtracting 1 from the quantity of each product. Modify the `inventory` dictionary accordingly.\n",
    "\n",
    "10. Print the updated inventory, displaying the quantity of each product on separate lines.\n",
    "\n",
    "Solve the exercise by implementing the steps using the Python concepts of lists, dictionaries, sets, and basic input/output operations. "
   ]
  },
  {
   "cell_type": "code",
   "execution_count": 11,
   "metadata": {},
   "outputs": [],
   "source": [
    "#1\n",
    "products=[\"t-shirt\", \"mug\", \"hat\", \"book\", \"keychain\"]"
   ]
  },
  {
   "cell_type": "code",
   "execution_count": 12,
   "metadata": {},
   "outputs": [],
   "source": [
    "#2\n",
    "inventory={}"
   ]
  },
  {
   "cell_type": "code",
   "execution_count": 13,
   "metadata": {},
   "outputs": [
    {
     "name": "stdout",
     "output_type": "stream",
     "text": [
      "Number of mugs:5\n",
      "Number of tees:10\n",
      "Number of hats:15\n",
      "Number of books:20\n",
      "Number of Keychains:25\n"
     ]
    }
   ],
   "source": [
    "#3\n",
    "mug= input (\"Number of mugs:\")\n",
    "mug= int(mug)\n",
    "tee= input (\"Number of tees:\")\n",
    "tee= int(tee)\n",
    "hat= input (\"Number of hats:\")\n",
    "hat= int(hat)\n",
    "book= input (\"Number of books:\")\n",
    "book= int(book)\n",
    "keychain= input (\"Number of Keychains:\")\n",
    "keychain= int(keychain)"
   ]
  },
  {
   "cell_type": "code",
   "execution_count": 14,
   "metadata": {},
   "outputs": [],
   "source": [
    "#3\n",
    "inventory={'t-shirt':tee, 'mug':mug, 'hat':hat, 'book':book, 'keychain':keychain}"
   ]
  },
  {
   "cell_type": "code",
   "execution_count": 18,
   "metadata": {},
   "outputs": [],
   "source": [
    "#4\n",
    "customers_orders=set (customers_orders)"
   ]
  },
  {
   "cell_type": "code",
   "execution_count": 19,
   "metadata": {},
   "outputs": [
    {
     "name": "stdout",
     "output_type": "stream",
     "text": [
      "First product: mug\n",
      "Second product: hat\n",
      "Third product: book\n"
     ]
    }
   ],
   "source": [
    "#5\n",
    "product_1= input (\"First product: \")\n",
    "product_2= input (\"Second product: \")\n",
    "product_3= input (\"Third product: \")"
   ]
  },
  {
   "cell_type": "code",
   "execution_count": 20,
   "metadata": {},
   "outputs": [],
   "source": [
    "#5\n",
    "customers_orders.add (product_1)\n",
    "customers_orders.add (product_2)\n",
    "customers_orders.add (product_3)"
   ]
  },
  {
   "cell_type": "code",
   "execution_count": 21,
   "metadata": {},
   "outputs": [
    {
     "name": "stdout",
     "output_type": "stream",
     "text": [
      "{'hat', 'mug', 'book'}\n"
     ]
    }
   ],
   "source": [
    "#6\n",
    "print (customers_orders)"
   ]
  },
  {
   "cell_type": "code",
   "execution_count": 32,
   "metadata": {},
   "outputs": [
    {
     "name": "stdout",
     "output_type": "stream",
     "text": [
      "3\n",
      "75\n",
      "4.0\n"
     ]
    }
   ],
   "source": [
    "#7\n",
    "total_products_ordered= len (customers_orders)\n",
    "print(total_products_ordered)\n",
    "total_products= book+mug+tee+hat+keychain\n",
    "print(total_products)\n",
    "percentage_products_ordered= (total_products_ordered*100)/total_products\n",
    "print(percentage_products_ordered)"
   ]
  },
  {
   "cell_type": "code",
   "execution_count": 33,
   "metadata": {},
   "outputs": [],
   "source": [
    "#7\n",
    "order_status= (total_products_ordered, percentage_products_ordered)"
   ]
  },
  {
   "cell_type": "code",
   "execution_count": 37,
   "metadata": {},
   "outputs": [
    {
     "name": "stdout",
     "output_type": "stream",
     "text": [
      "Order Statistics\n",
      "Total Products Ordered: 3\n",
      "Percentage of Products Ordered: 4.0 %\n"
     ]
    }
   ],
   "source": [
    "#8 \n",
    "print (\"Order Statistics\")\n",
    "print (\"Total Products Ordered:\", total_products_ordered)\n",
    "print (\"Percentage of Products Ordered:\",percentage_products_ordered, \"%\" )"
   ]
  },
  {
   "cell_type": "code",
   "execution_count": 38,
   "metadata": {},
   "outputs": [
    {
     "name": "stdout",
     "output_type": "stream",
     "text": [
      "{'t-shirt': 9, 'mug': 5, 'hat': 15, 'book': 20, 'keychain': 25}\n",
      "{'t-shirt': 9, 'mug': 4, 'hat': 15, 'book': 20, 'keychain': 25}\n",
      "{'t-shirt': 9, 'mug': 4, 'hat': 14, 'book': 20, 'keychain': 25}\n",
      "{'t-shirt': 9, 'mug': 4, 'hat': 14, 'book': 19, 'keychain': 25}\n",
      "{'t-shirt': 9, 'mug': 4, 'hat': 14, 'book': 19, 'keychain': 24}\n"
     ]
    }
   ],
   "source": [
    "for key, value in inventory.items():\n",
    "    inventory[key]=int (value)-1\n",
    "    print (inventory)"
   ]
  },
  {
   "cell_type": "code",
   "execution_count": 39,
   "metadata": {},
   "outputs": [
    {
     "name": "stdout",
     "output_type": "stream",
     "text": [
      "t-shirt 9\n",
      "mug 4\n",
      "hat 14\n",
      "book 19\n",
      "keychain 24\n"
     ]
    }
   ],
   "source": [
    "for key, value in inventory.items():\n",
    "    print(key,value)"
   ]
  },
  {
   "cell_type": "markdown",
   "metadata": {},
   "source": [
    "### "
   ]
  },
  {
   "cell_type": "markdown",
   "metadata": {},
   "source": []
  },
  {
   "cell_type": "markdown",
   "metadata": {},
   "source": []
  },
  {
   "cell_type": "markdown",
   "metadata": {},
   "source": []
  }
 ],
 "metadata": {
  "kernelspec": {
   "display_name": "Python 3 (ipykernel)",
   "language": "python",
   "name": "python3"
  },
  "language_info": {
   "codemirror_mode": {
    "name": "ipython",
    "version": 3
   },
   "file_extension": ".py",
   "mimetype": "text/x-python",
   "name": "python",
   "nbconvert_exporter": "python",
   "pygments_lexer": "ipython3",
   "version": "3.11.4"
  }
 },
 "nbformat": 4,
 "nbformat_minor": 4
}
