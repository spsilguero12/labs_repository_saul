{
 "cells": [
  {
   "cell_type": "markdown",
   "id": "25d7736c-ba17-4aff-b6bb-66eba20fbf4e",
   "metadata": {},
   "source": [
    "# Lab | List, Dict and Set Comprehension"
   ]
  },
  {
   "cell_type": "markdown",
   "id": "7dd3cbde-675a-4b81-92c3-f728846dbe06",
   "metadata": {},
   "source": [
    "## Exercise: Managing Customer Orders Optimized with Comprehension"
   ]
  },
  {
   "cell_type": "markdown",
   "id": "5d500160-2fb7-4777-b5e4-09d45ebaf328",
   "metadata": {},
   "source": [
    "In the previous exercise, you developed a program to manage customer orders and inventory. Now, let's take it a step further and incorporate comprehension into your code.\n",
    "\n",
    "Follow the steps below to complete the exercise:\n",
    "\n",
    "1. Review your code from the previous exercise and identify areas where you can apply comprehension to simplify and streamline your code. \n",
    "\n",
    "    - *Hint: Apply it to initialize inventory, updating the inventory and printing the updated inventory.*\n",
    "    \n",
    "    - For example, in initializing the inventory, we could have:\n",
    "    \n",
    "        ```python\n",
    "        def initialize_inventory(products):\n",
    "            inventory = {product: int(input(f\"Enter the quantity of {product}s available: \")) for product in products}\n",
    "            return inventory\n",
    "\n",
    "        ```\n",
    "<br>\n",
    "    \n",
    "    \n",
    "2. Modify the function get_customer_orders so it prompts the user to enter the number of customer orders and gathers the product names using a loop and user input. Use comprehension.\n",
    "\n",
    "3. Add a new function to calculate the total price of the customer order. For each product in customer_orders, prompt the user to enter the price of that product. Use comprehension to calculate the total price. Note: assume that the user can only have 1 unit of each product.\n",
    "\n",
    "4. Modify the update_inventory function to remove the product from the inventory if its quantity becomes zero after fulfilling the customer orders. Use comprehension to filter out the products with a quantity of zero from the inventory.\n",
    "\n",
    "5. Print the total price of the customer order.\n",
    "\n",
    "Your code should produce output similar to the following:\n",
    "\n",
    "```python\n",
    "Enter the quantity of t-shirts available:  5\n",
    "Enter the quantity of mugs available:  4\n",
    "Enter the quantity of hats available:  3\n",
    "Enter the quantity of books available:  2\n",
    "Enter the quantity of keychains available:  1\n",
    "Enter the number of customer orders:  2\n",
    "Enter the name of a product that a customer wants to order:  hat\n",
    "Enter the name of a product that a customer wants to order:  keychain\n",
    "\n",
    "Order Statistics:\n",
    "Total Products Ordered: 2\n",
    "Percentage of Unique Products Ordered: 40.0\n",
    "\n",
    "Updated Inventory:\n",
    "t-shirt: 5\n",
    "mug: 4\n",
    "hat: 2\n",
    "book: 2\n",
    "Enter the price of keychain:  5\n",
    "Enter the price of hat:  10\n",
    "Total Price: 15.0\n",
    "\n",
    "```\n"
   ]
  },
  {
   "cell_type": "code",
   "execution_count": 176,
   "id": "87801b1b",
   "metadata": {},
   "outputs": [],
   "source": [
    "inventory={}"
   ]
  },
  {
   "cell_type": "code",
   "execution_count": 177,
   "id": "fef90e31",
   "metadata": {},
   "outputs": [],
   "source": [
    "def initialize_inventory(products):\n",
    "    inventory = {product: int(input(f\"Enter the quantity of {product}s available: \")) for product in products}\n",
    "    return inventory"
   ]
  },
  {
   "cell_type": "code",
   "execution_count": 178,
   "id": "fdf50048",
   "metadata": {},
   "outputs": [
    {
     "name": "stdout",
     "output_type": "stream",
     "text": [
      "Enter the quantity of t-shirts available: 5\n",
      "Enter the quantity of mugs available: 5\n",
      "Enter the quantity of hats available: 5\n",
      "Enter the quantity of books available: 5\n",
      "Enter the quantity of keychains available: 5\n"
     ]
    }
   ],
   "source": [
    "products=[\"t-shirt\", \"mug\", \"hat\", \"book\", \"keychain\"]\n",
    "my_inventory= initialize_inventory (products)"
   ]
  },
  {
   "cell_type": "code",
   "execution_count": 179,
   "id": "b01c2bc7",
   "metadata": {},
   "outputs": [],
   "source": [
    "customers_orders=set()\n",
    "\n",
    "def get_customers_orders (): \n",
    "    \n",
    "    \n",
    "    \n",
    "    answer = input (\"What you like to add a product? Yes or No:  \")\n",
    "\n",
    "\n",
    "    if (answer== \"Yes\"):\n",
    "    \n",
    "        number= int (input (\"How many products would you like to add?: \"))\n",
    "    \n",
    "        for i in range (0, number):\n",
    "    \n",
    "            product = input (\"Please type a product: \")\n",
    "    \n",
    "            customers_orders.add (product)\n",
    "    \n",
    "    else:\n",
    "        print(\"Bye\")\n",
    "    \n",
    "    return customers_orders"
   ]
  },
  {
   "cell_type": "code",
   "execution_count": 180,
   "id": "6cd583bb",
   "metadata": {},
   "outputs": [
    {
     "name": "stdout",
     "output_type": "stream",
     "text": [
      "What you like to add a product? Yes or No:  Yes\n",
      "How many products would you like to add?: 2\n",
      "Please type a product: hat\n",
      "Please type a product: book\n"
     ]
    }
   ],
   "source": [
    "customers_orders= get_customers_orders()"
   ]
  },
  {
   "cell_type": "code",
   "execution_count": 181,
   "id": "08a65a70",
   "metadata": {},
   "outputs": [],
   "source": [
    "def update_inventory (customers_orders, inventory):\n",
    "    \n",
    "    upd_inventory= {i: inventory[i]-1 for i in customers_orders}\n",
    "            \n",
    "    return upd_inventory"
   ]
  },
  {
   "cell_type": "code",
   "execution_count": 182,
   "id": "51e64d8b",
   "metadata": {},
   "outputs": [],
   "source": [
    "final_inventory= update_inventory (customers_orders, my_inventory)"
   ]
  },
  {
   "cell_type": "code",
   "execution_count": 183,
   "id": "6919aa19",
   "metadata": {},
   "outputs": [],
   "source": [
    "def print_updated_inventory (inventory):\n",
    "   \n",
    "    new_inventory= {key:value for key,value in inventory.items()}\n",
    "    return new_inventory"
   ]
  },
  {
   "cell_type": "code",
   "execution_count": 184,
   "id": "b2039cab",
   "metadata": {
    "scrolled": true
   },
   "outputs": [
    {
     "data": {
      "text/plain": [
       "{'hat': 4, 'book': 4}"
      ]
     },
     "execution_count": 184,
     "metadata": {},
     "output_type": "execute_result"
    }
   ],
   "source": [
    "print_updated_inventory (final_inventory)"
   ]
  },
  {
   "cell_type": "code",
   "execution_count": 185,
   "id": "74226cc1",
   "metadata": {},
   "outputs": [
    {
     "name": "stdout",
     "output_type": "stream",
     "text": [
      "{'hat': 4, 'book': 4}\n"
     ]
    }
   ],
   "source": [
    "print (final_inventory)"
   ]
  },
  {
   "cell_type": "code",
   "execution_count": 210,
   "id": "3834950a",
   "metadata": {},
   "outputs": [],
   "source": [
    "orders_prices=[]\n",
    "def product_price (customers_orders):\n",
    "    \n",
    "    \n",
    "    for i in customers_orders:\n",
    "    \n",
    "        price = int (input (f\"Please enter a price for {i} \"))\n",
    "    \n",
    "        orders_prices.append (price)\n",
    "        \n",
    "    total_sum= sum (orders_prices)\n",
    "        \n",
    "    print (\"The total price is \", total_sum)\n",
    "    \n",
    "    "
   ]
  },
  {
   "cell_type": "code",
   "execution_count": 211,
   "id": "6bc1c62d",
   "metadata": {},
   "outputs": [
    {
     "name": "stdout",
     "output_type": "stream",
     "text": [
      "Please enter a price for hat 5\n",
      "Please enter a price for book 7\n",
      "The total price is  12\n"
     ]
    }
   ],
   "source": [
    "product_price (customers_orders)"
   ]
  },
  {
   "cell_type": "code",
   "execution_count": null,
   "id": "2664bd85",
   "metadata": {},
   "outputs": [],
   "source": [
    "#Comprehension for total price??\n",
    "\n"
   ]
  }
 ],
 "metadata": {
  "kernelspec": {
   "display_name": "Python 3 (ipykernel)",
   "language": "python",
   "name": "python3"
  },
  "language_info": {
   "codemirror_mode": {
    "name": "ipython",
    "version": 3
   },
   "file_extension": ".py",
   "mimetype": "text/x-python",
   "name": "python",
   "nbconvert_exporter": "python",
   "pygments_lexer": "ipython3",
   "version": "3.11.4"
  }
 },
 "nbformat": 4,
 "nbformat_minor": 5
}
