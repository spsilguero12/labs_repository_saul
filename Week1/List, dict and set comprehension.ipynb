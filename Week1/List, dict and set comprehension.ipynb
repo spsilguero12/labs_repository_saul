{
 "cells": [
  {
   "cell_type": "code",
   "execution_count": null,
   "id": "c51726dd",
   "metadata": {},
   "outputs": [],
   "source": [
    "#LIST COMPREHENSION"
   ]
  },
  {
   "cell_type": "code",
   "execution_count": 3,
   "id": "31bfdb1d",
   "metadata": {},
   "outputs": [
    {
     "data": {
      "text/plain": [
       "['SEB', 'SAUL']"
      ]
     },
     "execution_count": 3,
     "metadata": {},
     "output_type": "execute_result"
    }
   ],
   "source": [
    "#Print in uppercase names that start with \"S\" from a given list.\n",
    "name_list=[\"Julio\", \"Seb\", \"Saul\"]\n",
    "s_names=[name.upper() for name in name_list if name[0]==\"S\"]\n",
    "s_names"
   ]
  },
  {
   "cell_type": "code",
   "execution_count": 5,
   "id": "0f967382",
   "metadata": {},
   "outputs": [
    {
     "data": {
      "text/plain": [
       "[0, 1, 4, 9, 16, 25, 36, 49, 64, 81, 100]"
      ]
     },
     "execution_count": 5,
     "metadata": {},
     "output_type": "execute_result"
    }
   ],
   "source": [
    "#We want a list containing the squares of the numbers 1 to 10.\n",
    "number_list=[number**2 for number in range(0,11)]\n",
    "number_list"
   ]
  },
  {
   "cell_type": "code",
   "execution_count": 6,
   "id": "e61eb156",
   "metadata": {},
   "outputs": [
    {
     "data": {
      "text/plain": [
       "['barcalona', 'madrid', 'garona', 'murcia']"
      ]
     },
     "execution_count": 6,
     "metadata": {},
     "output_type": "execute_result"
    }
   ],
   "source": [
    "#Create a new list, substituting \"e's\" for \"a's\" in each word in a given list.\n",
    "words = ['barcelona', 'madrid', 'gerona', 'murcia']\n",
    "new_words=[city.replace(\"e\", \"a\")  for city in words]\n",
    "new_words"
   ]
  },
  {
   "cell_type": "code",
   "execution_count": 7,
   "id": "6d1dd40f",
   "metadata": {},
   "outputs": [
    {
     "data": {
      "text/plain": [
       "['BARCELONA', 'MADRID', 'GIRONA', 'MURCIA']"
      ]
     },
     "execution_count": 7,
     "metadata": {},
     "output_type": "execute_result"
    }
   ],
   "source": [
    "#Let's create a list like the following one, but with all the words in uppercase using a loop (i.e. ignore the elements that are not strings)\n",
    "list_of_words = [\"barcelona\", 2,  3, \"madrid\", \"girona\", 30, \"murcia\"]\n",
    "just_words =[city.upper() for city in list_of_words if type(city)==str]\n",
    "just_words"
   ]
  },
  {
   "cell_type": "code",
   "execution_count": 15,
   "id": "8e0a1bdd",
   "metadata": {},
   "outputs": [
    {
     "data": {
      "text/plain": [
       "[0, 2, 4, 6, 8]"
      ]
     },
     "execution_count": 15,
     "metadata": {},
     "output_type": "execute_result"
    }
   ],
   "source": [
    "#Let's create a list with the numbers from 0 to 9 that are even.\n",
    "even_numbers=[number for number in range(0,10) if number%2==0]\n",
    "even_numbers"
   ]
  },
  {
   "cell_type": "code",
   "execution_count": 16,
   "id": "78844e00",
   "metadata": {},
   "outputs": [
    {
     "data": {
      "text/plain": [
       "[]"
      ]
     },
     "execution_count": 16,
     "metadata": {},
     "output_type": "execute_result"
    }
   ],
   "source": [
    "#We want a new list with words longer than 5 characters.\n",
    "list_of_some_words = ['barcelona', 'madrid', 'gerona', 'murcia']\n",
    "short_words= [city for city in list_of_some_words if (len(city)<5)]\n",
    "short_words\n"
   ]
  },
  {
   "cell_type": "code",
   "execution_count": 19,
   "id": "246681ec",
   "metadata": {},
   "outputs": [
    {
     "data": {
      "text/plain": [
       "['Elisa', 'Dominik', 'Sid']"
      ]
     },
     "execution_count": 19,
     "metadata": {},
     "output_type": "execute_result"
    }
   ],
   "source": [
    "#Create a new list with only the names that start with e OR whose second last letter is \"i\" and capitalizes them.\n",
    "list_of_names=[\"carmen\", \"elisa\", \"dominik\",\"deb\",\"juli\", \"sid\"]\n",
    "\n",
    "final_list_of_names=[name.capitalize() for name in list_of_names if ( name[0]==\"e\"  or name[-2]==\"i\" )]\n",
    "final_list_of_names"
   ]
  },
  {
   "cell_type": "code",
   "execution_count": null,
   "id": "49e6d65b",
   "metadata": {},
   "outputs": [],
   "source": [
    "#DICTIONARY COMPREHENSION"
   ]
  },
  {
   "cell_type": "code",
   "execution_count": 20,
   "id": "07f90dfb",
   "metadata": {},
   "outputs": [
    {
     "data": {
      "text/plain": [
       "{'a': 1, 'b': 2, 'c': 3}"
      ]
     },
     "execution_count": 20,
     "metadata": {},
     "output_type": "execute_result"
    }
   ],
   "source": [
    "#USEFUL ZIP FUNCTION--> CREATE A DICT OUT OF TWO LISTS\n",
    "list_1=[\"a\",\"b\",\"c\"]\n",
    "list_2=[1,2,3]\n",
    "dict_together= dict(zip(list_1,list_2))\n",
    "dict_together"
   ]
  },
  {
   "cell_type": "code",
   "execution_count": 21,
   "id": "f2e8ac4c",
   "metadata": {},
   "outputs": [
    {
     "data": {
      "text/plain": [
       "{-10: 'negative', -5: 'negative', 10: 'positive'}"
      ]
     },
     "execution_count": 21,
     "metadata": {},
     "output_type": "execute_result"
    }
   ],
   "source": [
    "# Create a new dictionary, where the key is the same as dict_2\n",
    "# but the value is \"positive\" if the key >= 0 , and \"negative\" key<0\n",
    "dict_2 = {-10: \"a\", -5:\"b\", 10:\"c\"}\n",
    "\n",
    "final_dict={key:(\"positive\" if key>=0 else \"negative\") for key,value in dict_2.items()}\n",
    "final_dict"
   ]
  },
  {
   "cell_type": "code",
   "execution_count": 22,
   "id": "351b5427",
   "metadata": {},
   "outputs": [
    {
     "name": "stdout",
     "output_type": "stream",
     "text": [
      "{1: 1, 2: 4, 3: 9, 4: 16, 5: 25}\n"
     ]
    }
   ],
   "source": [
    "#Let's keep the values of the numbers list as the dictionary keys, and as the dictionary values, we want those numbers squared.\n",
    "numbers_ = [1, 2, 3, 4, 5]\n",
    "squared_dict = {num: num**2 for num in numbers_}\n",
    "print(squared_dict)"
   ]
  },
  {
   "cell_type": "code",
   "execution_count": 24,
   "id": "6fb3aa8e",
   "metadata": {},
   "outputs": [
    {
     "data": {
      "text/plain": [
       "{'football': 8, 'climbing': 8, 'swimming': 8, 'golf': 4}"
      ]
     },
     "execution_count": 24,
     "metadata": {},
     "output_type": "execute_result"
    }
   ],
   "source": [
    "#You have a list of words. Write a dictionary containing the length of each word.\n",
    "list_of_words = [\"football\", \"climbing\", \"swimming\", \"golf\"]\n",
    "new_dict=  {word: len(word) for word in list_of_words}\n",
    "new_dict"
   ]
  },
  {
   "cell_type": "code",
   "execution_count": null,
   "id": "3560b3d5",
   "metadata": {},
   "outputs": [],
   "source": []
  }
 ],
 "metadata": {
  "kernelspec": {
   "display_name": "Python 3 (ipykernel)",
   "language": "python",
   "name": "python3"
  },
  "language_info": {
   "codemirror_mode": {
    "name": "ipython",
    "version": 3
   },
   "file_extension": ".py",
   "mimetype": "text/x-python",
   "name": "python",
   "nbconvert_exporter": "python",
   "pygments_lexer": "ipython3",
   "version": "3.11.4"
  }
 },
 "nbformat": 4,
 "nbformat_minor": 5
}
