{
 "cells": [
  {
   "cell_type": "markdown",
   "id": "25d7736c-ba17-4aff-b6bb-66eba20fbf4e",
   "metadata": {},
   "source": [
    "# Lab | Functions"
   ]
  },
  {
   "cell_type": "markdown",
   "id": "0c581062-8967-4d93-b06e-62833222f930",
   "metadata": {
    "tags": []
   },
   "source": [
    "## Exercise: Managing Customer Orders with Functions\n",
    "\n",
    "In the previous exercise, you improved the code for managing customer orders by using loops and flow control. Now, let's take it a step further and refactor the code by introducing functions.\n",
    "\n",
    "Follow the steps below to complete the exercise:\n",
    "\n",
    "1. Define a function named `initialize_inventory` that takes `products` as a parameter. Inside the function, implement the code for initializing the inventory dictionary using a loop and user input.\n",
    "\n",
    "2. Define a function named `get_customer_orders` that takes no parameters. Inside the function, implement the code for prompting the user to enter the product names using a loop. The function should return the `customer_orders` set.\n",
    "\n",
    "3. Define a function named `update_inventory` that takes `customer_orders` and `inventory` as parameters. Inside the function, implement the code for updating the inventory dictionary based on the customer orders.\n",
    "\n",
    "4. Define a function named `calculate_order_statistics` that takes `customer_orders` and `products` as parameters. Inside the function, implement the code for calculating the order statistics (total products ordered, and percentage of unique products ordered). The function should return these values.\n",
    "\n",
    "5. Define a function named `print_order_statistics` that takes `order_statistics` as a parameter. Inside the function, implement the code for printing the order statistics.\n",
    "\n",
    "6. Define a function named `print_updated_inventory` that takes `inventory` as a parameter. Inside the function, implement the code for printing the updated inventory.\n",
    "\n",
    "7. Call the functions in the appropriate sequence to execute the program and manage customer orders.\n",
    "\n",
    "Hints for functions:\n",
    "\n",
    "- Consider the input parameters required for each function and their return values.\n",
    "- Utilize function parameters and return values to transfer data between functions.\n",
    "- Test your functions individually to ensure they work correctly.\n",
    "\n",
    "\n"
   ]
  },
  {
   "cell_type": "code",
   "execution_count": 32,
   "id": "774749af",
   "metadata": {},
   "outputs": [],
   "source": [
    "inventory={}\n",
    "\n",
    "def initialize_inventory (products):\n",
    "\n",
    "    \n",
    "    for i in products:\n",
    "        number= input (f\"How much {i}?\")\n",
    "        inventory[i]= int (number) \n",
    "        # we are asigning key = value\n",
    "    \n",
    "    \n",
    "    return inventory"
   ]
  },
  {
   "cell_type": "code",
   "execution_count": 33,
   "id": "9fa663f8",
   "metadata": {},
   "outputs": [
    {
     "name": "stdout",
     "output_type": "stream",
     "text": [
      "How much t-shirt?5\n",
      "How much mug?10\n",
      "How much hat?15\n",
      "How much book?20\n",
      "How much keychain?25\n"
     ]
    }
   ],
   "source": [
    "products=[\"t-shirt\", \"mug\", \"hat\", \"book\", \"keychain\"]\n",
    "my_inventory= initialize_inventory (products)"
   ]
  },
  {
   "cell_type": "code",
   "execution_count": 38,
   "id": "4c32541b",
   "metadata": {},
   "outputs": [],
   "source": [
    "customers_orders=set()\n",
    "\n",
    "def get_customers_orders (): \n",
    "    \n",
    "    \n",
    "    \n",
    "    answer = input (\"What you like to add a product? Yes or No:  \")\n",
    "\n",
    "\n",
    "    if (answer== \"Yes\"):\n",
    "    \n",
    "        number= int (input (\"How many products would you like to add?: \"))\n",
    "    \n",
    "        for i in range (0, number):\n",
    "    \n",
    "            product = input (\"Please type a product: \")\n",
    "    \n",
    "            customers_orders.add (product)\n",
    "    \n",
    "    else:\n",
    "        print(\"Bye\")\n",
    "    \n",
    "    return customers_orders"
   ]
  },
  {
   "cell_type": "code",
   "execution_count": 39,
   "id": "182a870d",
   "metadata": {},
   "outputs": [
    {
     "name": "stdout",
     "output_type": "stream",
     "text": [
      "What you like to add a product? Yes or No:  Yes\n",
      "How many products would you like to add?: 2\n",
      "Please type a product: mug\n",
      "Please type a product: hat\n"
     ]
    },
    {
     "data": {
      "text/plain": [
       "{'hat', 'mug'}"
      ]
     },
     "execution_count": 39,
     "metadata": {},
     "output_type": "execute_result"
    }
   ],
   "source": [
    "get_customers_orders()"
   ]
  },
  {
   "cell_type": "code",
   "execution_count": 40,
   "id": "b7ddab5f",
   "metadata": {},
   "outputs": [],
   "source": [
    "def update_inventory (customers_orders, inventory):\n",
    "    \n",
    "    for i in customers_orders:\n",
    "        if i in inventory.keys():\n",
    "            inventory[i]-=1\n",
    "            \n",
    "    return inventory\n",
    "  "
   ]
  },
  {
   "cell_type": "code",
   "execution_count": 41,
   "id": "7b2332cf",
   "metadata": {},
   "outputs": [
    {
     "name": "stdout",
     "output_type": "stream",
     "text": [
      "{'t-shirt': 5, 'mug': 9, 'hat': 14, 'book': 20, 'keychain': 25}\n"
     ]
    }
   ],
   "source": [
    "print (update_inventory(customers_orders, inventory))"
   ]
  },
  {
   "cell_type": "code",
   "execution_count": 46,
   "id": "e2acc361",
   "metadata": {},
   "outputs": [],
   "source": [
    "def calculate_order_statistics (customers_orders, products):\n",
    "    \n",
    "    total_products_ordered= len (customers_orders)\n",
    "    \n",
    "    \n",
    "    total_products= len (products)   \n",
    " \n",
    "    \n",
    "    percentage_products_ordered= (total_products_ordered)*100/total_products\n",
    "       \n",
    "    \n",
    "    return total_products_ordered, total_products"
   ]
  },
  {
   "cell_type": "code",
   "execution_count": 56,
   "id": "28f7c263",
   "metadata": {},
   "outputs": [
    {
     "name": "stdout",
     "output_type": "stream",
     "text": [
      "(2, 5)\n"
     ]
    }
   ],
   "source": [
    "order_statistics_final=(calculate_order_statistics(customers_orders, products))\n",
    "print (order_statistics_final)"
   ]
  },
  {
   "cell_type": "code",
   "execution_count": 53,
   "id": "205372ef",
   "metadata": {},
   "outputs": [],
   "source": [
    "def print_updated_inventory (inventory):\n",
    "    for key, value in inventory.items():\n",
    "        print (key,value)\n",
    "        "
   ]
  },
  {
   "cell_type": "code",
   "execution_count": 54,
   "id": "748bcece",
   "metadata": {},
   "outputs": [
    {
     "name": "stdout",
     "output_type": "stream",
     "text": [
      "t-shirt 5\n",
      "mug 9\n",
      "hat 14\n",
      "book 20\n",
      "keychain 25\n"
     ]
    }
   ],
   "source": [
    "print_updated_inventory (inventory)"
   ]
  },
  {
   "cell_type": "code",
   "execution_count": 61,
   "id": "391564d8",
   "metadata": {},
   "outputs": [],
   "source": [
    "def print_order_statistics (order_statistics):\n",
    "    print (\"Order Statistics\")\n",
    "    print (\"Total Products Ordered:\", order_statistics[0])\n",
    "    print (\"Products Total:\",order_statistics[1] )"
   ]
  },
  {
   "cell_type": "code",
   "execution_count": 62,
   "id": "e0cdf1e0",
   "metadata": {},
   "outputs": [
    {
     "name": "stdout",
     "output_type": "stream",
     "text": [
      "Order Statistics\n",
      "Total Products Ordered: 2\n",
      "Products Total: 5\n"
     ]
    }
   ],
   "source": [
    "print_order_statistics (order_statistics_final)"
   ]
  },
  {
   "cell_type": "code",
   "execution_count": null,
   "id": "7174e89b",
   "metadata": {},
   "outputs": [],
   "source": []
  }
 ],
 "metadata": {
  "kernelspec": {
   "display_name": "Python 3 (ipykernel)",
   "language": "python",
   "name": "python3"
  },
  "language_info": {
   "codemirror_mode": {
    "name": "ipython",
    "version": 3
   },
   "file_extension": ".py",
   "mimetype": "text/x-python",
   "name": "python",
   "nbconvert_exporter": "python",
   "pygments_lexer": "ipython3",
   "version": "3.11.4"
  }
 },
 "nbformat": 4,
 "nbformat_minor": 5
}
